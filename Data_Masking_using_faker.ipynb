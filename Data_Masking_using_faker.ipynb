{
  "nbformat": 4,
  "nbformat_minor": 0,
  "metadata": {
    "colab": {
      "name": "Data_Masking_using_faker.ipynb",
      "provenance": [],
      "collapsed_sections": []
    },
    "kernelspec": {
      "name": "python3",
      "display_name": "Python 3"
    },
    "language_info": {
      "name": "python"
    }
  },
  "cells": [
    {
      "cell_type": "code",
      "execution_count": null,
      "metadata": {
        "id": "pchgDg0sGvGd"
      },
      "outputs": [],
      "source": [
        "\n",
        "# pip install spacy\n",
        "\n",
        "\"\"\"spaCy is a library for advanced Natural Language Processing in Python and Cython. It's built on the very latest research, and was designed from day one to\n",
        " be used in real products.spaCy comes with pretrained pipelines and currently supports tokenization and training for 60+ languages.\n",
        "It features state-of-the-art speed and neural network models for tagging, parsing, named entity recognition, text classification and more, multi-task learning\n",
        "with pretrained transformers like BERT, as well as a production-ready training system and easy model packaging, deployment and workflow management.\n",
        "spaCy is commercial open-source software, released under the MIT license.\"\"\"\n",
        "\n",
        "\n",
        "# pip install faker\n",
        "\n",
        "\"\"\"Faker is a Python package that generates fake data for you. Whether you need to bootstrap your database, create good-looking XML documents,\n",
        "fill-in your persistence to stress test it, or anonymize data taken from a production service.\"\"\"\n"
      ]
    },
    {
      "cell_type": "code",
      "source": [
        "#importing the packages .\n",
        "import pandas as pd\n",
        "import re\n",
        "import random\n",
        "import spacy\n",
        "from faker import Faker\n",
        "fake = Faker()\n",
        "\n",
        "\n",
        "#Load the large English NLP model`\n",
        "NER_model = spacy.load(\"en_core_web_sm\")"
      ],
      "metadata": {
        "id": "jBmJlyf4G-v9"
      },
      "execution_count": null,
      "outputs": []
    },
    {
      "cell_type": "code",
      "source": [
        "article_text = \"\"\"Eastern African neighbours Tanzania and Mozambique, which have been carrying out joint counterinsurgency operations along their shared border, are now organising deradicalisation programmes using education and other means.\n",
        "I spoke to Malayali students in Ukraine on phone. Indian students in the southern areas of Ukraine have told us that they are getting food, water and power. Students and parents should not panic. Our government has brought back Indians even from places like Iraq. The central government will be able to ensure the safety of Indians, there is no doubt about that. The control room has been expanded, more telephone numbers have been given,\" he said.\n",
        "Watch: Imran Khan Says \"Excited Coming To Moscow\" As Ukraine Invaded\n",
        "Russia is not going to give Pakistan anything because Moscow losing India for the sake of Islamabad's support is not an option, according to Balochistan politician Jan Achakza.\n",
        "rime Minister Narendra Modi on Thursday spoke to Vladimir Putin and called for an immediate cessation of violence between Russia and Ukraine.\n",
        " \"\"\" "
      ],
      "metadata": {
        "id": "Yr3VOHbTHLD9"
      },
      "execution_count": null,
      "outputs": []
    },
    {
      "cell_type": "code",
      "source": [
        "text = NER_model(article_text)"
      ],
      "metadata": {
        "id": "XqUT5w5aHORF"
      },
      "execution_count": null,
      "outputs": []
    },
    {
      "cell_type": "code",
      "source": [
        "# list the entities\n",
        "\n",
        "ent_lst = list()\n",
        "for word in text.ents:\n",
        "  ent_lst.append(word)\n",
        "\n",
        "ent_lst = set(ent_lst)\n",
        "print(ent_lst)"
      ],
      "metadata": {
        "colab": {
          "base_uri": "https://localhost:8080/"
        },
        "id": "Vt8P-klDHeeF",
        "outputId": "bd0dfc46-f1a7-434b-9c53-a84cca4ac92a"
      },
      "execution_count": null,
      "outputs": [
        {
          "output_type": "stream",
          "name": "stdout",
          "text": [
            "{Malayali, Indians, Vladimir Putin, Imran, Mozambique, Jan Achakza, Thursday, Eastern African, Russia, Ukraine, Excited Coming To Moscow, Indian, India, Balochistan, Indians, Tanzania, Ukraine, Moscow, Pakistan, Iraq, Russia, Narendra Modi, Ukraine, Islamabad, Ukraine}\n"
          ]
        }
      ]
    },
    {
      "cell_type": "code",
      "source": [
        "# Entities and their index and their types\n",
        "ent_index_lst = []\n",
        "for word in ent_lst:\n",
        "  for match in re.finditer(str(word), article_text):\n",
        "        print (word,\"-->\", match.start(), match.end(),\"-->\",word.label_)"
      ],
      "metadata": {
        "colab": {
          "base_uri": "https://localhost:8080/"
        },
        "id": "4-pVkZqIHrWl",
        "outputId": "f8fd91a4-01be-4e02-cc09-16125466bf20"
      },
      "execution_count": null,
      "outputs": [
        {
          "output_type": "stream",
          "name": "stdout",
          "text": [
            "Malayali --> 234 242 --> NORP\n",
            "Indians --> 451 458 --> NORP\n",
            "Indians --> 547 554 --> NORP\n",
            "Vladimir Putin --> 967 981 --> PERSON\n",
            "Imran --> 679 684 --> GPE\n",
            "Mozambique --> 40 50 --> GPE\n",
            "Jan Achakza --> 905 916 --> PERSON\n",
            "Thursday --> 949 957 --> DATE\n",
            "Eastern African --> 0 15 --> NORP\n",
            "Russia --> 741 747 --> GPE\n",
            "Russia --> 1040 1046 --> GPE\n",
            "Ukraine --> 255 262 --> GPE\n",
            "Ukraine --> 314 321 --> GPE\n",
            "Ukraine --> 725 732 --> GPE\n",
            "Ukraine --> 1051 1058 --> GPE\n",
            "Excited Coming To Moscow --> 696 720 --> WORK_OF_ART\n",
            "Indian --> 273 279 --> NORP\n",
            "Indian --> 451 457 --> NORP\n",
            "Indian --> 547 553 --> NORP\n",
            "India --> 273 278 --> GPE\n",
            "India --> 451 456 --> GPE\n",
            "India --> 547 552 --> GPE\n",
            "India --> 809 814 --> GPE\n",
            "Balochistan --> 882 893 --> ORG\n",
            "Indians --> 451 458 --> NORP\n",
            "Indians --> 547 554 --> NORP\n",
            "Tanzania --> 27 35 --> GPE\n",
            "Ukraine --> 255 262 --> GPE\n",
            "Ukraine --> 314 321 --> GPE\n",
            "Ukraine --> 725 732 --> GPE\n",
            "Ukraine --> 1051 1058 --> GPE\n",
            "Moscow --> 714 720 --> GPE\n",
            "Moscow --> 795 801 --> GPE\n",
            "Pakistan --> 769 777 --> GPE\n",
            "Iraq --> 481 485 --> GPE\n",
            "Russia --> 741 747 --> GPE\n",
            "Russia --> 1040 1046 --> GPE\n",
            "Narendra Modi --> 932 945 --> PERSON\n",
            "Ukraine --> 255 262 --> GPE\n",
            "Ukraine --> 314 321 --> GPE\n",
            "Ukraine --> 725 732 --> GPE\n",
            "Ukraine --> 1051 1058 --> GPE\n",
            "Islamabad --> 831 840 --> GPE\n",
            "Ukraine --> 255 262 --> GPE\n",
            "Ukraine --> 314 321 --> GPE\n",
            "Ukraine --> 725 732 --> GPE\n",
            "Ukraine --> 1051 1058 --> GPE\n"
          ]
        }
      ]
    },
    {
      "cell_type": "code",
      "source": [
        "#counting the number of entites\n",
        "\n",
        "from collections import Counter\n",
        "labels = [x.label_ for x in text.ents]\n",
        "Counter(labels)"
      ],
      "metadata": {
        "colab": {
          "base_uri": "https://localhost:8080/"
        },
        "id": "o7_GlDqLH8Y1",
        "outputId": "74e84595-a7c1-47b5-a4e5-e509dbcba421"
      },
      "execution_count": null,
      "outputs": [
        {
          "output_type": "execute_result",
          "data": {
            "text/plain": [
              "Counter({'DATE': 1,\n",
              "         'GPE': 14,\n",
              "         'NORP': 5,\n",
              "         'ORG': 1,\n",
              "         'PERSON': 3,\n",
              "         'WORK_OF_ART': 1})"
            ]
          },
          "metadata": {},
          "execution_count": 9
        }
      ]
    },
    {
      "cell_type": "markdown",
      "source": [
        "Creating Random Entites using faker \n",
        "\n",
        "ex: Name, Organization, Country etc..."
      ],
      "metadata": {
        "id": "ln89rJJfIiSl"
      }
    },
    {
      "cell_type": "code",
      "source": [
        "fake_name = []\n",
        "for i in range (15):\n",
        "  fake_name.append(fake.name())\n",
        "\n",
        "# print(fake_name)\n",
        "\n",
        "fake_coun = []\n",
        "for i in range (15):\n",
        "  fake_coun.append(fake.country())\n",
        "\n",
        "# print(fake_coun)\n",
        "\n",
        "fake_org = []\n",
        "for i in range (15):\n",
        "  fake_org.append(fake.company()+\" \"+fake.company_suffix())\n",
        "\n",
        "#print(fake_org)\n",
        "\n",
        "fake_date = []\n",
        "for i in range (15):\n",
        "  fake_date.append( fake.date())\n",
        "\n",
        "#print(fake_date)"
      ],
      "metadata": {
        "id": "WCfslCr7ISWc"
      },
      "execution_count": null,
      "outputs": []
    },
    {
      "cell_type": "markdown",
      "source": [
        "Creating Dictionares for replacing the fake data for the same entities to avoid the mulitple name for a same entity \n",
        "\n",
        "ex: \n",
        "    \n",
        "*   orginale text -  hi John, welcome John\n",
        "*   fake text     -  hi Danie, welcome Danie\n",
        "\n",
        "\n"
      ],
      "metadata": {
        "id": "6J9S5un0JPk9"
      }
    },
    {
      "cell_type": "code",
      "source": [
        "dict_for_name = {}\n",
        "def fake_name_dic(ent):\n",
        "  if ent in dict_for_name:\n",
        "    return dict_for_name [ent]\n",
        "  else:\n",
        "    dict_for_name[ent] = random.choice(fake_name)\n",
        "    return dict_for_name[ent]\n",
        "\n",
        "\n",
        "dict_for_org = {}\n",
        "def fake_org_dic(ent):\n",
        "  if ent in dict_for_org:\n",
        "    return dict_for_org[ent]\n",
        "  else:\n",
        "    dict_for_org[ent] = random.choice(fake_org)\n",
        "    return dict_for_org[ent]\n",
        "\n",
        "dict_for_coun = {}\n",
        "def fake_coun_dic(ent):\n",
        "  if ent in dict_for_coun:\n",
        "    return dict_for_coun[ent]\n",
        "  else:\n",
        "    dict_for_coun[ent] = random.choice(fake_coun)\n",
        "    return dict_for_coun[ent]\n",
        "\n",
        "dict_for_date = {}\n",
        "def fake_date_dic(ent):\n",
        "  if ent in dict_for_date:\n",
        "    return dict_for_date[ent]\n",
        "  else:\n",
        "    dict_for_date[ent] = random.choice(fake_date)\n",
        "    return dict_for_date[ent]"
      ],
      "metadata": {
        "id": "5okoEGqJJCe1"
      },
      "execution_count": null,
      "outputs": []
    },
    {
      "cell_type": "markdown",
      "source": [
        "function to replace the indentifed the entites"
      ],
      "metadata": {
        "id": "yhXECCR4KrB7"
      }
    },
    {
      "cell_type": "code",
      "source": [
        "\n",
        "def replace_entites_with_index(token):\n",
        "  if token.ent_iob != 0 and token.ent_type_ == \"PERSON\":\n",
        "    enc_str = fake_name_dic(token.string)\n",
        "    return enc_str+ \" \"\n",
        "    \n",
        "  elif (token.ent_iob != 0 and token.ent_type_ == \"ORG\"):\n",
        "    enc_str = fake_org_dic(token.string)\n",
        "    return enc_str+ \" \"\n",
        "  \n",
        "  elif(token.ent_iob != 0 and token.ent_type_ == \"GPE\"):\n",
        "    enc_str = fake_coun_dic(token.string)\n",
        "    return enc_str+ \" \"\n",
        "  \n",
        "  elif(token.ent_iob != 0 and token.ent_type_ == \"Date\"):\n",
        "    enc_str =fake_name_dic(token.string)\n",
        "    return enc_str+ \" \"\n",
        "  \n",
        "  else:\n",
        "    return token.string"
      ],
      "metadata": {
        "id": "Y3XJhl0GKoot"
      },
      "execution_count": null,
      "outputs": []
    },
    {
      "cell_type": "markdown",
      "source": [
        "function to mask the entites"
      ],
      "metadata": {
        "id": "E6nVxqCTK-kX"
      }
    },
    {
      "cell_type": "code",
      "source": [
        "def scrub(text):\n",
        "  doc = NER_model(text)\n",
        "  for ent in doc.ents:\n",
        "    ent.merge()\n",
        "    #tokens = map(replace_loaction_with_index,doc)\n",
        "    tokens = map(replace_entites_with_index,doc)\n",
        "    \n",
        "  return \"\".join(tokens)"
      ],
      "metadata": {
        "id": "Rhzb3JVQKwDt"
      },
      "execution_count": null,
      "outputs": []
    },
    {
      "cell_type": "markdown",
      "source": [
        "Display the entites using spacy"
      ],
      "metadata": {
        "id": "SGEycTKULEs9"
      }
    },
    {
      "cell_type": "code",
      "source": [
        "from spacy import displacy\n",
        "displacy.render(text, jupyter=True, style='ent')"
      ],
      "metadata": {
        "colab": {
          "base_uri": "https://localhost:8080/",
          "height": 387
        },
        "id": "XnlVoS-tK35V",
        "outputId": "57ab8a1c-9868-4889-d23c-3cb949b1c400"
      },
      "execution_count": null,
      "outputs": [
        {
          "output_type": "display_data",
          "data": {
            "text/html": [
              "<span class=\"tex2jax_ignore\"><div class=\"entities\" style=\"line-height: 2.5; direction: ltr\">\n",
              "<mark class=\"entity\" style=\"background: #c887fb; padding: 0.45em 0.6em; margin: 0 0.25em; line-height: 1; border-radius: 0.35em;\">\n",
              "    Eastern African\n",
              "    <span style=\"font-size: 0.8em; font-weight: bold; line-height: 1; border-radius: 0.35em; text-transform: uppercase; vertical-align: middle; margin-left: 0.5rem\">NORP</span>\n",
              "</mark>\n",
              " neighbours \n",
              "<mark class=\"entity\" style=\"background: #feca74; padding: 0.45em 0.6em; margin: 0 0.25em; line-height: 1; border-radius: 0.35em;\">\n",
              "    Tanzania\n",
              "    <span style=\"font-size: 0.8em; font-weight: bold; line-height: 1; border-radius: 0.35em; text-transform: uppercase; vertical-align: middle; margin-left: 0.5rem\">GPE</span>\n",
              "</mark>\n",
              " and \n",
              "<mark class=\"entity\" style=\"background: #feca74; padding: 0.45em 0.6em; margin: 0 0.25em; line-height: 1; border-radius: 0.35em;\">\n",
              "    Mozambique\n",
              "    <span style=\"font-size: 0.8em; font-weight: bold; line-height: 1; border-radius: 0.35em; text-transform: uppercase; vertical-align: middle; margin-left: 0.5rem\">GPE</span>\n",
              "</mark>\n",
              ", which have been carrying out joint counterinsurgency operations along their shared border, are now organising deradicalisation programmes using education and other means.</br>I spoke to \n",
              "<mark class=\"entity\" style=\"background: #c887fb; padding: 0.45em 0.6em; margin: 0 0.25em; line-height: 1; border-radius: 0.35em;\">\n",
              "    Malayali\n",
              "    <span style=\"font-size: 0.8em; font-weight: bold; line-height: 1; border-radius: 0.35em; text-transform: uppercase; vertical-align: middle; margin-left: 0.5rem\">NORP</span>\n",
              "</mark>\n",
              " students in \n",
              "<mark class=\"entity\" style=\"background: #feca74; padding: 0.45em 0.6em; margin: 0 0.25em; line-height: 1; border-radius: 0.35em;\">\n",
              "    Ukraine\n",
              "    <span style=\"font-size: 0.8em; font-weight: bold; line-height: 1; border-radius: 0.35em; text-transform: uppercase; vertical-align: middle; margin-left: 0.5rem\">GPE</span>\n",
              "</mark>\n",
              " on phone. \n",
              "<mark class=\"entity\" style=\"background: #c887fb; padding: 0.45em 0.6em; margin: 0 0.25em; line-height: 1; border-radius: 0.35em;\">\n",
              "    Indian\n",
              "    <span style=\"font-size: 0.8em; font-weight: bold; line-height: 1; border-radius: 0.35em; text-transform: uppercase; vertical-align: middle; margin-left: 0.5rem\">NORP</span>\n",
              "</mark>\n",
              " students in the southern areas of \n",
              "<mark class=\"entity\" style=\"background: #feca74; padding: 0.45em 0.6em; margin: 0 0.25em; line-height: 1; border-radius: 0.35em;\">\n",
              "    Ukraine\n",
              "    <span style=\"font-size: 0.8em; font-weight: bold; line-height: 1; border-radius: 0.35em; text-transform: uppercase; vertical-align: middle; margin-left: 0.5rem\">GPE</span>\n",
              "</mark>\n",
              " have told us that they are getting food, water and power. Students and parents should not panic. Our government has brought back \n",
              "<mark class=\"entity\" style=\"background: #c887fb; padding: 0.45em 0.6em; margin: 0 0.25em; line-height: 1; border-radius: 0.35em;\">\n",
              "    Indians\n",
              "    <span style=\"font-size: 0.8em; font-weight: bold; line-height: 1; border-radius: 0.35em; text-transform: uppercase; vertical-align: middle; margin-left: 0.5rem\">NORP</span>\n",
              "</mark>\n",
              " even from places like \n",
              "<mark class=\"entity\" style=\"background: #feca74; padding: 0.45em 0.6em; margin: 0 0.25em; line-height: 1; border-radius: 0.35em;\">\n",
              "    Iraq\n",
              "    <span style=\"font-size: 0.8em; font-weight: bold; line-height: 1; border-radius: 0.35em; text-transform: uppercase; vertical-align: middle; margin-left: 0.5rem\">GPE</span>\n",
              "</mark>\n",
              ". The central government will be able to ensure the safety of \n",
              "<mark class=\"entity\" style=\"background: #c887fb; padding: 0.45em 0.6em; margin: 0 0.25em; line-height: 1; border-radius: 0.35em;\">\n",
              "    Indians\n",
              "    <span style=\"font-size: 0.8em; font-weight: bold; line-height: 1; border-radius: 0.35em; text-transform: uppercase; vertical-align: middle; margin-left: 0.5rem\">NORP</span>\n",
              "</mark>\n",
              ", there is no doubt about that. The control room has been expanded, more telephone numbers have been given,&quot; he said.</br>Watch: \n",
              "<mark class=\"entity\" style=\"background: #feca74; padding: 0.45em 0.6em; margin: 0 0.25em; line-height: 1; border-radius: 0.35em;\">\n",
              "    Imran\n",
              "    <span style=\"font-size: 0.8em; font-weight: bold; line-height: 1; border-radius: 0.35em; text-transform: uppercase; vertical-align: middle; margin-left: 0.5rem\">GPE</span>\n",
              "</mark>\n",
              " Khan Says &quot;\n",
              "<mark class=\"entity\" style=\"background: #f0d0ff; padding: 0.45em 0.6em; margin: 0 0.25em; line-height: 1; border-radius: 0.35em;\">\n",
              "    Excited Coming To Moscow\n",
              "    <span style=\"font-size: 0.8em; font-weight: bold; line-height: 1; border-radius: 0.35em; text-transform: uppercase; vertical-align: middle; margin-left: 0.5rem\">WORK_OF_ART</span>\n",
              "</mark>\n",
              "&quot; As \n",
              "<mark class=\"entity\" style=\"background: #feca74; padding: 0.45em 0.6em; margin: 0 0.25em; line-height: 1; border-radius: 0.35em;\">\n",
              "    Ukraine\n",
              "    <span style=\"font-size: 0.8em; font-weight: bold; line-height: 1; border-radius: 0.35em; text-transform: uppercase; vertical-align: middle; margin-left: 0.5rem\">GPE</span>\n",
              "</mark>\n",
              " Invaded</br>\n",
              "<mark class=\"entity\" style=\"background: #feca74; padding: 0.45em 0.6em; margin: 0 0.25em; line-height: 1; border-radius: 0.35em;\">\n",
              "    Russia\n",
              "    <span style=\"font-size: 0.8em; font-weight: bold; line-height: 1; border-radius: 0.35em; text-transform: uppercase; vertical-align: middle; margin-left: 0.5rem\">GPE</span>\n",
              "</mark>\n",
              " is not going to give \n",
              "<mark class=\"entity\" style=\"background: #feca74; padding: 0.45em 0.6em; margin: 0 0.25em; line-height: 1; border-radius: 0.35em;\">\n",
              "    Pakistan\n",
              "    <span style=\"font-size: 0.8em; font-weight: bold; line-height: 1; border-radius: 0.35em; text-transform: uppercase; vertical-align: middle; margin-left: 0.5rem\">GPE</span>\n",
              "</mark>\n",
              " anything because \n",
              "<mark class=\"entity\" style=\"background: #feca74; padding: 0.45em 0.6em; margin: 0 0.25em; line-height: 1; border-radius: 0.35em;\">\n",
              "    Moscow\n",
              "    <span style=\"font-size: 0.8em; font-weight: bold; line-height: 1; border-radius: 0.35em; text-transform: uppercase; vertical-align: middle; margin-left: 0.5rem\">GPE</span>\n",
              "</mark>\n",
              " losing \n",
              "<mark class=\"entity\" style=\"background: #feca74; padding: 0.45em 0.6em; margin: 0 0.25em; line-height: 1; border-radius: 0.35em;\">\n",
              "    India\n",
              "    <span style=\"font-size: 0.8em; font-weight: bold; line-height: 1; border-radius: 0.35em; text-transform: uppercase; vertical-align: middle; margin-left: 0.5rem\">GPE</span>\n",
              "</mark>\n",
              " for the sake of \n",
              "<mark class=\"entity\" style=\"background: #feca74; padding: 0.45em 0.6em; margin: 0 0.25em; line-height: 1; border-radius: 0.35em;\">\n",
              "    Islamabad\n",
              "    <span style=\"font-size: 0.8em; font-weight: bold; line-height: 1; border-radius: 0.35em; text-transform: uppercase; vertical-align: middle; margin-left: 0.5rem\">GPE</span>\n",
              "</mark>\n",
              "'s support is not an option, according to \n",
              "<mark class=\"entity\" style=\"background: #7aecec; padding: 0.45em 0.6em; margin: 0 0.25em; line-height: 1; border-radius: 0.35em;\">\n",
              "    Balochistan\n",
              "    <span style=\"font-size: 0.8em; font-weight: bold; line-height: 1; border-radius: 0.35em; text-transform: uppercase; vertical-align: middle; margin-left: 0.5rem\">ORG</span>\n",
              "</mark>\n",
              " politician \n",
              "<mark class=\"entity\" style=\"background: #aa9cfc; padding: 0.45em 0.6em; margin: 0 0.25em; line-height: 1; border-radius: 0.35em;\">\n",
              "    Jan Achakza\n",
              "    <span style=\"font-size: 0.8em; font-weight: bold; line-height: 1; border-radius: 0.35em; text-transform: uppercase; vertical-align: middle; margin-left: 0.5rem\">PERSON</span>\n",
              "</mark>\n",
              ".</br>rime Minister \n",
              "<mark class=\"entity\" style=\"background: #aa9cfc; padding: 0.45em 0.6em; margin: 0 0.25em; line-height: 1; border-radius: 0.35em;\">\n",
              "    Narendra Modi\n",
              "    <span style=\"font-size: 0.8em; font-weight: bold; line-height: 1; border-radius: 0.35em; text-transform: uppercase; vertical-align: middle; margin-left: 0.5rem\">PERSON</span>\n",
              "</mark>\n",
              " on \n",
              "<mark class=\"entity\" style=\"background: #bfe1d9; padding: 0.45em 0.6em; margin: 0 0.25em; line-height: 1; border-radius: 0.35em;\">\n",
              "    Thursday\n",
              "    <span style=\"font-size: 0.8em; font-weight: bold; line-height: 1; border-radius: 0.35em; text-transform: uppercase; vertical-align: middle; margin-left: 0.5rem\">DATE</span>\n",
              "</mark>\n",
              " spoke to \n",
              "<mark class=\"entity\" style=\"background: #aa9cfc; padding: 0.45em 0.6em; margin: 0 0.25em; line-height: 1; border-radius: 0.35em;\">\n",
              "    Vladimir Putin\n",
              "    <span style=\"font-size: 0.8em; font-weight: bold; line-height: 1; border-radius: 0.35em; text-transform: uppercase; vertical-align: middle; margin-left: 0.5rem\">PERSON</span>\n",
              "</mark>\n",
              " and called for an immediate cessation of violence between \n",
              "<mark class=\"entity\" style=\"background: #feca74; padding: 0.45em 0.6em; margin: 0 0.25em; line-height: 1; border-radius: 0.35em;\">\n",
              "    Russia\n",
              "    <span style=\"font-size: 0.8em; font-weight: bold; line-height: 1; border-radius: 0.35em; text-transform: uppercase; vertical-align: middle; margin-left: 0.5rem\">GPE</span>\n",
              "</mark>\n",
              " and \n",
              "<mark class=\"entity\" style=\"background: #feca74; padding: 0.45em 0.6em; margin: 0 0.25em; line-height: 1; border-radius: 0.35em;\">\n",
              "    Ukraine\n",
              "    <span style=\"font-size: 0.8em; font-weight: bold; line-height: 1; border-radius: 0.35em; text-transform: uppercase; vertical-align: middle; margin-left: 0.5rem\">GPE</span>\n",
              "</mark>\n",
              ".\n",
              " </div></span>"
            ],
            "text/plain": [
              "<IPython.core.display.HTML object>"
            ]
          },
          "metadata": {}
        }
      ]
    },
    {
      "cell_type": "code",
      "source": [
        "fake_text=scrub(article_text)\n",
        "text2= NER_model(fake_text)"
      ],
      "metadata": {
        "id": "7v2zFSXCXM1z"
      },
      "execution_count": null,
      "outputs": []
    },
    {
      "cell_type": "code",
      "source": [
        "displacy.render(text2, jupyter=True, style='ent')"
      ],
      "metadata": {
        "colab": {
          "base_uri": "https://localhost:8080/",
          "height": 332
        },
        "id": "9P-VsNePXTMT",
        "outputId": "6a9c0eee-a675-45b4-ee4c-76651a58eb50"
      },
      "execution_count": null,
      "outputs": [
        {
          "output_type": "display_data",
          "data": {
            "text/html": [
              "<span class=\"tex2jax_ignore\"><div class=\"entities\" style=\"line-height: 2.5; direction: ltr\">\n",
              "<mark class=\"entity\" style=\"background: #c887fb; padding: 0.45em 0.6em; margin: 0 0.25em; line-height: 1; border-radius: 0.35em;\">\n",
              "    Eastern African\n",
              "    <span style=\"font-size: 0.8em; font-weight: bold; line-height: 1; border-radius: 0.35em; text-transform: uppercase; vertical-align: middle; margin-left: 0.5rem\">NORP</span>\n",
              "</mark>\n",
              " neighbours \n",
              "<mark class=\"entity\" style=\"background: #feca74; padding: 0.45em 0.6em; margin: 0 0.25em; line-height: 1; border-radius: 0.35em;\">\n",
              "    Hungary\n",
              "    <span style=\"font-size: 0.8em; font-weight: bold; line-height: 1; border-radius: 0.35em; text-transform: uppercase; vertical-align: middle; margin-left: 0.5rem\">GPE</span>\n",
              "</mark>\n",
              " and \n",
              "<mark class=\"entity\" style=\"background: #feca74; padding: 0.45em 0.6em; margin: 0 0.25em; line-height: 1; border-radius: 0.35em;\">\n",
              "    Romania\n",
              "    <span style=\"font-size: 0.8em; font-weight: bold; line-height: 1; border-radius: 0.35em; text-transform: uppercase; vertical-align: middle; margin-left: 0.5rem\">GPE</span>\n",
              "</mark>\n",
              " , which have been carrying out joint counterinsurgency operations along their shared border, are now organising deradicalisation programmes using education and other means.</br>I spoke to \n",
              "<mark class=\"entity\" style=\"background: #c887fb; padding: 0.45em 0.6em; margin: 0 0.25em; line-height: 1; border-radius: 0.35em;\">\n",
              "    Malayali\n",
              "    <span style=\"font-size: 0.8em; font-weight: bold; line-height: 1; border-radius: 0.35em; text-transform: uppercase; vertical-align: middle; margin-left: 0.5rem\">NORP</span>\n",
              "</mark>\n",
              " students in \n",
              "<mark class=\"entity\" style=\"background: #feca74; padding: 0.45em 0.6em; margin: 0 0.25em; line-height: 1; border-radius: 0.35em;\">\n",
              "    Romania\n",
              "    <span style=\"font-size: 0.8em; font-weight: bold; line-height: 1; border-radius: 0.35em; text-transform: uppercase; vertical-align: middle; margin-left: 0.5rem\">GPE</span>\n",
              "</mark>\n",
              " on phone. \n",
              "<mark class=\"entity\" style=\"background: #c887fb; padding: 0.45em 0.6em; margin: 0 0.25em; line-height: 1; border-radius: 0.35em;\">\n",
              "    Indian\n",
              "    <span style=\"font-size: 0.8em; font-weight: bold; line-height: 1; border-radius: 0.35em; text-transform: uppercase; vertical-align: middle; margin-left: 0.5rem\">NORP</span>\n",
              "</mark>\n",
              " students in the southern areas of \n",
              "<mark class=\"entity\" style=\"background: #feca74; padding: 0.45em 0.6em; margin: 0 0.25em; line-height: 1; border-radius: 0.35em;\">\n",
              "    Romania\n",
              "    <span style=\"font-size: 0.8em; font-weight: bold; line-height: 1; border-radius: 0.35em; text-transform: uppercase; vertical-align: middle; margin-left: 0.5rem\">GPE</span>\n",
              "</mark>\n",
              " have told us that they are getting food, water and power. Students and parents should not panic. Our government has brought back \n",
              "<mark class=\"entity\" style=\"background: #c887fb; padding: 0.45em 0.6em; margin: 0 0.25em; line-height: 1; border-radius: 0.35em;\">\n",
              "    Indians\n",
              "    <span style=\"font-size: 0.8em; font-weight: bold; line-height: 1; border-radius: 0.35em; text-transform: uppercase; vertical-align: middle; margin-left: 0.5rem\">NORP</span>\n",
              "</mark>\n",
              " even from places like \n",
              "<mark class=\"entity\" style=\"background: #feca74; padding: 0.45em 0.6em; margin: 0 0.25em; line-height: 1; border-radius: 0.35em;\">\n",
              "    Ethiopia\n",
              "    <span style=\"font-size: 0.8em; font-weight: bold; line-height: 1; border-radius: 0.35em; text-transform: uppercase; vertical-align: middle; margin-left: 0.5rem\">GPE</span>\n",
              "</mark>\n",
              " . The central government will be able to ensure the safety of \n",
              "<mark class=\"entity\" style=\"background: #c887fb; padding: 0.45em 0.6em; margin: 0 0.25em; line-height: 1; border-radius: 0.35em;\">\n",
              "    Indians\n",
              "    <span style=\"font-size: 0.8em; font-weight: bold; line-height: 1; border-radius: 0.35em; text-transform: uppercase; vertical-align: middle; margin-left: 0.5rem\">NORP</span>\n",
              "</mark>\n",
              ", there is no doubt about that. The control room has been expanded, more telephone numbers have been given,&quot; he said.</br>Watch: \n",
              "<mark class=\"entity\" style=\"background: #aa9cfc; padding: 0.45em 0.6em; margin: 0 0.25em; line-height: 1; border-radius: 0.35em;\">\n",
              "    French Guiana Khan\n",
              "    <span style=\"font-size: 0.8em; font-weight: bold; line-height: 1; border-radius: 0.35em; text-transform: uppercase; vertical-align: middle; margin-left: 0.5rem\">PERSON</span>\n",
              "</mark>\n",
              " Says &quot;\n",
              "<mark class=\"entity\" style=\"background: #f0d0ff; padding: 0.45em 0.6em; margin: 0 0.25em; line-height: 1; border-radius: 0.35em;\">\n",
              "    Excited Coming To Moscow\n",
              "    <span style=\"font-size: 0.8em; font-weight: bold; line-height: 1; border-radius: 0.35em; text-transform: uppercase; vertical-align: middle; margin-left: 0.5rem\">WORK_OF_ART</span>\n",
              "</mark>\n",
              "&quot; As \n",
              "<mark class=\"entity\" style=\"background: #feca74; padding: 0.45em 0.6em; margin: 0 0.25em; line-height: 1; border-radius: 0.35em;\">\n",
              "    Romania\n",
              "    <span style=\"font-size: 0.8em; font-weight: bold; line-height: 1; border-radius: 0.35em; text-transform: uppercase; vertical-align: middle; margin-left: 0.5rem\">GPE</span>\n",
              "</mark>\n",
              " Invaded</br>\n",
              "<mark class=\"entity\" style=\"background: #feca74; padding: 0.45em 0.6em; margin: 0 0.25em; line-height: 1; border-radius: 0.35em;\">\n",
              "    Serbia\n",
              "    <span style=\"font-size: 0.8em; font-weight: bold; line-height: 1; border-radius: 0.35em; text-transform: uppercase; vertical-align: middle; margin-left: 0.5rem\">GPE</span>\n",
              "</mark>\n",
              " is not going to give \n",
              "<mark class=\"entity\" style=\"background: #feca74; padding: 0.45em 0.6em; margin: 0 0.25em; line-height: 1; border-radius: 0.35em;\">\n",
              "    Philippines\n",
              "    <span style=\"font-size: 0.8em; font-weight: bold; line-height: 1; border-radius: 0.35em; text-transform: uppercase; vertical-align: middle; margin-left: 0.5rem\">GPE</span>\n",
              "</mark>\n",
              " anything because \n",
              "<mark class=\"entity\" style=\"background: #7aecec; padding: 0.45em 0.6em; margin: 0 0.25em; line-height: 1; border-radius: 0.35em;\">\n",
              "    Tokelau\n",
              "    <span style=\"font-size: 0.8em; font-weight: bold; line-height: 1; border-radius: 0.35em; text-transform: uppercase; vertical-align: middle; margin-left: 0.5rem\">ORG</span>\n",
              "</mark>\n",
              " losing \n",
              "<mark class=\"entity\" style=\"background: #aa9cfc; padding: 0.45em 0.6em; margin: 0 0.25em; line-height: 1; border-radius: 0.35em;\">\n",
              "    French Guiana\n",
              "    <span style=\"font-size: 0.8em; font-weight: bold; line-height: 1; border-radius: 0.35em; text-transform: uppercase; vertical-align: middle; margin-left: 0.5rem\">PERSON</span>\n",
              "</mark>\n",
              " for the sake of \n",
              "<mark class=\"entity\" style=\"background: #feca74; padding: 0.45em 0.6em; margin: 0 0.25em; line-height: 1; border-radius: 0.35em;\">\n",
              "    Switzerland\n",
              "    <span style=\"font-size: 0.8em; font-weight: bold; line-height: 1; border-radius: 0.35em; text-transform: uppercase; vertical-align: middle; margin-left: 0.5rem\">GPE</span>\n",
              "</mark>\n",
              " 's support is not an option, according to \n",
              "<mark class=\"entity\" style=\"background: #7aecec; padding: 0.45em 0.6em; margin: 0 0.25em; line-height: 1; border-radius: 0.35em;\">\n",
              "    Osborn Inc Inc\n",
              "    <span style=\"font-size: 0.8em; font-weight: bold; line-height: 1; border-radius: 0.35em; text-transform: uppercase; vertical-align: middle; margin-left: 0.5rem\">ORG</span>\n",
              "</mark>\n",
              " politician \n",
              "<mark class=\"entity\" style=\"background: #aa9cfc; padding: 0.45em 0.6em; margin: 0 0.25em; line-height: 1; border-radius: 0.35em;\">\n",
              "    Katherine Byrd\n",
              "    <span style=\"font-size: 0.8em; font-weight: bold; line-height: 1; border-radius: 0.35em; text-transform: uppercase; vertical-align: middle; margin-left: 0.5rem\">PERSON</span>\n",
              "</mark>\n",
              " .</br>rime Minister \n",
              "<mark class=\"entity\" style=\"background: #aa9cfc; padding: 0.45em 0.6em; margin: 0 0.25em; line-height: 1; border-radius: 0.35em;\">\n",
              "    Patty Powell\n",
              "    <span style=\"font-size: 0.8em; font-weight: bold; line-height: 1; border-radius: 0.35em; text-transform: uppercase; vertical-align: middle; margin-left: 0.5rem\">PERSON</span>\n",
              "</mark>\n",
              " on \n",
              "<mark class=\"entity\" style=\"background: #bfe1d9; padding: 0.45em 0.6em; margin: 0 0.25em; line-height: 1; border-radius: 0.35em;\">\n",
              "    Thursday\n",
              "    <span style=\"font-size: 0.8em; font-weight: bold; line-height: 1; border-radius: 0.35em; text-transform: uppercase; vertical-align: middle; margin-left: 0.5rem\">DATE</span>\n",
              "</mark>\n",
              " spoke to \n",
              "<mark class=\"entity\" style=\"background: #aa9cfc; padding: 0.45em 0.6em; margin: 0 0.25em; line-height: 1; border-radius: 0.35em;\">\n",
              "    Danny Wilson\n",
              "    <span style=\"font-size: 0.8em; font-weight: bold; line-height: 1; border-radius: 0.35em; text-transform: uppercase; vertical-align: middle; margin-left: 0.5rem\">PERSON</span>\n",
              "</mark>\n",
              " and called for an immediate cessation of violence between \n",
              "<mark class=\"entity\" style=\"background: #feca74; padding: 0.45em 0.6em; margin: 0 0.25em; line-height: 1; border-radius: 0.35em;\">\n",
              "    Serbia\n",
              "    <span style=\"font-size: 0.8em; font-weight: bold; line-height: 1; border-radius: 0.35em; text-transform: uppercase; vertical-align: middle; margin-left: 0.5rem\">GPE</span>\n",
              "</mark>\n",
              " and \n",
              "<mark class=\"entity\" style=\"background: #feca74; padding: 0.45em 0.6em; margin: 0 0.25em; line-height: 1; border-radius: 0.35em;\">\n",
              "    Liberia\n",
              "    <span style=\"font-size: 0.8em; font-weight: bold; line-height: 1; border-radius: 0.35em; text-transform: uppercase; vertical-align: middle; margin-left: 0.5rem\">GPE</span>\n",
              "</mark>\n",
              " .\n",
              " </div></span>"
            ],
            "text/plain": [
              "<IPython.core.display.HTML object>"
            ]
          },
          "metadata": {}
        }
      ]
    },
    {
      "cell_type": "code",
      "source": [
        "print(dict_for_name.items())\n",
        "\n",
        "print(dict_for_coun.items())\n",
        "\n",
        "print(dict_for_org.items())\n",
        "\n",
        "print(dict_for_date.items())\n"
      ],
      "metadata": {
        "colab": {
          "base_uri": "https://localhost:8080/"
        },
        "id": "2bhIvTYhMZ5G",
        "outputId": "5ed3532b-6914-4a01-9388-9fd877f122b4"
      },
      "execution_count": null,
      "outputs": [
        {
          "output_type": "stream",
          "name": "stdout",
          "text": [
            "dict_items([('Jan Achakza', 'Katherine Byrd'), ('Narendra Modi ', 'Patty Powell'), ('Vladimir Putin ', 'Danny Wilson')])\n",
            "dict_items([('Tanzania ', 'Hungary'), ('Mozambique', 'Romania'), ('Ukraine ', 'Romania'), ('Iraq', 'Ethiopia'), ('Imran ', 'French Guiana'), ('Russia ', 'Serbia'), ('Pakistan ', 'Philippines'), ('Moscow ', 'Tokelau'), ('India ', 'French Guiana'), ('Islamabad', 'Switzerland'), ('Ukraine', 'Liberia')])\n",
            "dict_items([('Balochistan ', 'Osborn Inc Inc')])\n",
            "dict_items([])\n"
          ]
        }
      ]
    },
    {
      "cell_type": "markdown",
      "source": [
        "reference : \n",
        "\n",
        "            https://pypi.org/project/spacy/\n",
        "\n",
        "            https://pypi.org/project/Faker/"
      ],
      "metadata": {
        "id": "sA2FY3oCMpbG"
      }
    }
  ]
}